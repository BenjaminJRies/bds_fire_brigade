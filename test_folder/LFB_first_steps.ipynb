{
 "cells": [
  {
   "cell_type": "code",
   "execution_count": 71,
   "id": "26ce1931-b690-4277-b739-af67dab1cf71",
   "metadata": {},
   "outputs": [],
   "source": [
    "import pandas as pd\n",
    "import numpy as np\n",
    "import matplotlib.pyplot as plt\n",
    "import seaborn as sns"
   ]
  },
  {
   "cell_type": "code",
   "execution_count": 72,
   "id": "59cb4bf1-1102-48d4-aaaa-94bd9435fedd",
   "metadata": {},
   "outputs": [
    {
     "name": "stderr",
     "output_type": "stream",
     "text": [
      "/tmp/ipykernel_23843/4267333723.py:3: DtypeWarning: Columns (0) have mixed types. Specify dtype option on import or set low_memory=False.\n",
      "  df_incidents_2009 = pd.read_csv(\"LFB Incident data from 2009 - 2017.csv\")\n"
     ]
    },
    {
     "data": {
      "text/html": [
       "<div>\n",
       "<style scoped>\n",
       "    .dataframe tbody tr th:only-of-type {\n",
       "        vertical-align: middle;\n",
       "    }\n",
       "\n",
       "    .dataframe tbody tr th {\n",
       "        vertical-align: top;\n",
       "    }\n",
       "\n",
       "    .dataframe thead th {\n",
       "        text-align: right;\n",
       "    }\n",
       "</style>\n",
       "<table border=\"1\" class=\"dataframe\">\n",
       "  <thead>\n",
       "    <tr style=\"text-align: right;\">\n",
       "      <th></th>\n",
       "      <th>DateOfCall</th>\n",
       "      <th>CalYear</th>\n",
       "      <th>TimeOfCall</th>\n",
       "      <th>HourOfCall</th>\n",
       "      <th>IncidentGroup</th>\n",
       "      <th>StopCodeDescription</th>\n",
       "      <th>SpecialServiceType</th>\n",
       "      <th>PropertyCategory</th>\n",
       "      <th>PropertyType</th>\n",
       "      <th>AddressQualifier</th>\n",
       "      <th>...</th>\n",
       "      <th>FirstPumpArriving_AttendanceTime</th>\n",
       "      <th>FirstPumpArriving_DeployedFromStation</th>\n",
       "      <th>SecondPumpArriving_AttendanceTime</th>\n",
       "      <th>SecondPumpArriving_DeployedFromStation</th>\n",
       "      <th>NumStationsWithPumpsAttending</th>\n",
       "      <th>NumPumpsAttending</th>\n",
       "      <th>PumpCount</th>\n",
       "      <th>PumpMinutesRounded</th>\n",
       "      <th>Notional Cost (£)</th>\n",
       "      <th>NumCalls</th>\n",
       "    </tr>\n",
       "    <tr>\n",
       "      <th>IncidentNumber</th>\n",
       "      <th></th>\n",
       "      <th></th>\n",
       "      <th></th>\n",
       "      <th></th>\n",
       "      <th></th>\n",
       "      <th></th>\n",
       "      <th></th>\n",
       "      <th></th>\n",
       "      <th></th>\n",
       "      <th></th>\n",
       "      <th></th>\n",
       "      <th></th>\n",
       "      <th></th>\n",
       "      <th></th>\n",
       "      <th></th>\n",
       "      <th></th>\n",
       "      <th></th>\n",
       "      <th></th>\n",
       "      <th></th>\n",
       "      <th></th>\n",
       "      <th></th>\n",
       "    </tr>\n",
       "  </thead>\n",
       "  <tbody>\n",
       "    <tr>\n",
       "      <th>235138081.0</th>\n",
       "      <td>01-Jan-09</td>\n",
       "      <td>2009</td>\n",
       "      <td>00:00:37</td>\n",
       "      <td>0</td>\n",
       "      <td>Special Service</td>\n",
       "      <td>Special Service</td>\n",
       "      <td>RTC</td>\n",
       "      <td>Road Vehicle</td>\n",
       "      <td>Car</td>\n",
       "      <td>In street close to gazetteer location</td>\n",
       "      <td>...</td>\n",
       "      <td>319.0</td>\n",
       "      <td>Battersea</td>\n",
       "      <td>342.0</td>\n",
       "      <td>Clapham</td>\n",
       "      <td>2.0</td>\n",
       "      <td>2.0</td>\n",
       "      <td>2</td>\n",
       "      <td>60</td>\n",
       "      <td>255</td>\n",
       "      <td>1.0</td>\n",
       "    </tr>\n",
       "    <tr>\n",
       "      <th>1091.0</th>\n",
       "      <td>01-Jan-09</td>\n",
       "      <td>2009</td>\n",
       "      <td>00:00:46</td>\n",
       "      <td>0</td>\n",
       "      <td>Special Service</td>\n",
       "      <td>Special Service</td>\n",
       "      <td>Assist other agencies</td>\n",
       "      <td>Outdoor</td>\n",
       "      <td>Lake/pond/reservoir</td>\n",
       "      <td>Open land/water - nearest gazetteer location</td>\n",
       "      <td>...</td>\n",
       "      <td>NaN</td>\n",
       "      <td>NaN</td>\n",
       "      <td>NaN</td>\n",
       "      <td>NaN</td>\n",
       "      <td>NaN</td>\n",
       "      <td>NaN</td>\n",
       "      <td>1</td>\n",
       "      <td>60</td>\n",
       "      <td>255</td>\n",
       "      <td>1.0</td>\n",
       "    </tr>\n",
       "    <tr>\n",
       "      <th>2091.0</th>\n",
       "      <td>01-Jan-09</td>\n",
       "      <td>2009</td>\n",
       "      <td>00:03:00</td>\n",
       "      <td>0</td>\n",
       "      <td>Fire</td>\n",
       "      <td>Secondary Fire</td>\n",
       "      <td>NaN</td>\n",
       "      <td>Outdoor</td>\n",
       "      <td>Road surface/pavement</td>\n",
       "      <td>In street outside gazetteer location</td>\n",
       "      <td>...</td>\n",
       "      <td>308.0</td>\n",
       "      <td>Edmonton</td>\n",
       "      <td>NaN</td>\n",
       "      <td>NaN</td>\n",
       "      <td>1.0</td>\n",
       "      <td>1.0</td>\n",
       "      <td>1</td>\n",
       "      <td>60</td>\n",
       "      <td>255</td>\n",
       "      <td>2.0</td>\n",
       "    </tr>\n",
       "    <tr>\n",
       "      <th>3091.0</th>\n",
       "      <td>01-Jan-09</td>\n",
       "      <td>2009</td>\n",
       "      <td>00:04:27</td>\n",
       "      <td>0</td>\n",
       "      <td>Fire</td>\n",
       "      <td>Secondary Fire</td>\n",
       "      <td>NaN</td>\n",
       "      <td>Outdoor</td>\n",
       "      <td>Domestic garden (vegetation not equipment)</td>\n",
       "      <td>On land associated with building</td>\n",
       "      <td>...</td>\n",
       "      <td>210.0</td>\n",
       "      <td>Hillingdon</td>\n",
       "      <td>NaN</td>\n",
       "      <td>NaN</td>\n",
       "      <td>1.0</td>\n",
       "      <td>1.0</td>\n",
       "      <td>1</td>\n",
       "      <td>60</td>\n",
       "      <td>255</td>\n",
       "      <td>2.0</td>\n",
       "    </tr>\n",
       "    <tr>\n",
       "      <th>5091.0</th>\n",
       "      <td>01-Jan-09</td>\n",
       "      <td>2009</td>\n",
       "      <td>00:05:39</td>\n",
       "      <td>0</td>\n",
       "      <td>Fire</td>\n",
       "      <td>Secondary Fire</td>\n",
       "      <td>NaN</td>\n",
       "      <td>Outdoor</td>\n",
       "      <td>Cycle path/public footpath/bridleway</td>\n",
       "      <td>In street outside gazetteer location</td>\n",
       "      <td>...</td>\n",
       "      <td>233.0</td>\n",
       "      <td>Holloway</td>\n",
       "      <td>250.0</td>\n",
       "      <td>Holloway</td>\n",
       "      <td>1.0</td>\n",
       "      <td>2.0</td>\n",
       "      <td>2</td>\n",
       "      <td>60</td>\n",
       "      <td>255</td>\n",
       "      <td>1.0</td>\n",
       "    </tr>\n",
       "  </tbody>\n",
       "</table>\n",
       "<p>5 rows × 38 columns</p>\n",
       "</div>"
      ],
      "text/plain": [
       "               DateOfCall  CalYear TimeOfCall  HourOfCall    IncidentGroup  \\\n",
       "IncidentNumber                                                               \n",
       "235138081.0     01-Jan-09     2009   00:00:37           0  Special Service   \n",
       "1091.0          01-Jan-09     2009   00:00:46           0  Special Service   \n",
       "2091.0          01-Jan-09     2009   00:03:00           0             Fire   \n",
       "3091.0          01-Jan-09     2009   00:04:27           0             Fire   \n",
       "5091.0          01-Jan-09     2009   00:05:39           0             Fire   \n",
       "\n",
       "               StopCodeDescription     SpecialServiceType PropertyCategory  \\\n",
       "IncidentNumber                                                               \n",
       "235138081.0        Special Service                    RTC     Road Vehicle   \n",
       "1091.0             Special Service  Assist other agencies          Outdoor   \n",
       "2091.0              Secondary Fire                    NaN          Outdoor   \n",
       "3091.0              Secondary Fire                    NaN          Outdoor   \n",
       "5091.0              Secondary Fire                    NaN          Outdoor   \n",
       "\n",
       "                                               PropertyType  \\\n",
       "IncidentNumber                                                \n",
       "235138081.0                                            Car    \n",
       "1091.0                                 Lake/pond/reservoir    \n",
       "2091.0                               Road surface/pavement    \n",
       "3091.0          Domestic garden (vegetation not equipment)    \n",
       "5091.0                Cycle path/public footpath/bridleway    \n",
       "\n",
       "                                            AddressQualifier  ...  \\\n",
       "IncidentNumber                                                ...   \n",
       "235138081.0            In street close to gazetteer location  ...   \n",
       "1091.0          Open land/water - nearest gazetteer location  ...   \n",
       "2091.0                  In street outside gazetteer location  ...   \n",
       "3091.0                      On land associated with building  ...   \n",
       "5091.0                  In street outside gazetteer location  ...   \n",
       "\n",
       "               FirstPumpArriving_AttendanceTime  \\\n",
       "IncidentNumber                                    \n",
       "235138081.0                               319.0   \n",
       "1091.0                                      NaN   \n",
       "2091.0                                    308.0   \n",
       "3091.0                                    210.0   \n",
       "5091.0                                    233.0   \n",
       "\n",
       "               FirstPumpArriving_DeployedFromStation  \\\n",
       "IncidentNumber                                         \n",
       "235138081.0                                Battersea   \n",
       "1091.0                                           NaN   \n",
       "2091.0                                      Edmonton   \n",
       "3091.0                                    Hillingdon   \n",
       "5091.0                                      Holloway   \n",
       "\n",
       "                SecondPumpArriving_AttendanceTime  \\\n",
       "IncidentNumber                                      \n",
       "235138081.0                                 342.0   \n",
       "1091.0                                        NaN   \n",
       "2091.0                                        NaN   \n",
       "3091.0                                        NaN   \n",
       "5091.0                                      250.0   \n",
       "\n",
       "                SecondPumpArriving_DeployedFromStation  \\\n",
       "IncidentNumber                                           \n",
       "235138081.0                                    Clapham   \n",
       "1091.0                                             NaN   \n",
       "2091.0                                             NaN   \n",
       "3091.0                                             NaN   \n",
       "5091.0                                        Holloway   \n",
       "\n",
       "               NumStationsWithPumpsAttending NumPumpsAttending PumpCount  \\\n",
       "IncidentNumber                                                             \n",
       "235138081.0                              2.0               2.0         2   \n",
       "1091.0                                   NaN               NaN         1   \n",
       "2091.0                                   1.0               1.0         1   \n",
       "3091.0                                   1.0               1.0         1   \n",
       "5091.0                                   1.0               2.0         2   \n",
       "\n",
       "               PumpMinutesRounded Notional Cost (£) NumCalls  \n",
       "IncidentNumber                                                \n",
       "235138081.0                    60               255      1.0  \n",
       "1091.0                         60               255      1.0  \n",
       "2091.0                         60               255      2.0  \n",
       "3091.0                         60               255      2.0  \n",
       "5091.0                         60               255      1.0  \n",
       "\n",
       "[5 rows x 38 columns]"
      ]
     },
     "metadata": {},
     "output_type": "display_data"
    },
    {
     "data": {
      "text/plain": [
       "(988279, 38)"
      ]
     },
     "execution_count": 72,
     "metadata": {},
     "output_type": "execute_result"
    }
   ],
   "source": [
    "# Dataframe incidents 2009 to 2017, set IncidentNUmber as index:\n",
    "\n",
    "df_incidents_2009 = pd.read_csv(\"LFB Incident data from 2009 - 2017.csv\")\n",
    "df_incidents_2009 = df_incidents_2009.set_index(\"IncidentNumber\")\n",
    "display(df_incidents_2009.head())\n",
    "df_incidents_2009.shape"
   ]
  },
  {
   "cell_type": "code",
   "execution_count": 73,
   "id": "342d11ef-07e3-4a2e-a397-e8e58545e928",
   "metadata": {},
   "outputs": [
    {
     "data": {
      "text/html": [
       "<div>\n",
       "<style scoped>\n",
       "    .dataframe tbody tr th:only-of-type {\n",
       "        vertical-align: middle;\n",
       "    }\n",
       "\n",
       "    .dataframe tbody tr th {\n",
       "        vertical-align: top;\n",
       "    }\n",
       "\n",
       "    .dataframe thead th {\n",
       "        text-align: right;\n",
       "    }\n",
       "</style>\n",
       "<table border=\"1\" class=\"dataframe\">\n",
       "  <thead>\n",
       "    <tr style=\"text-align: right;\">\n",
       "      <th></th>\n",
       "      <th>DateOfCall</th>\n",
       "      <th>CalYear</th>\n",
       "      <th>TimeOfCall</th>\n",
       "      <th>HourOfCall</th>\n",
       "      <th>IncidentGroup</th>\n",
       "      <th>StopCodeDescription</th>\n",
       "      <th>SpecialServiceType</th>\n",
       "      <th>PropertyCategory</th>\n",
       "      <th>PropertyType</th>\n",
       "      <th>AddressQualifier</th>\n",
       "      <th>...</th>\n",
       "      <th>FirstPumpArriving_AttendanceTime</th>\n",
       "      <th>FirstPumpArriving_DeployedFromStation</th>\n",
       "      <th>SecondPumpArriving_AttendanceTime</th>\n",
       "      <th>SecondPumpArriving_DeployedFromStation</th>\n",
       "      <th>NumStationsWithPumpsAttending</th>\n",
       "      <th>NumPumpsAttending</th>\n",
       "      <th>PumpCount</th>\n",
       "      <th>PumpMinutesRounded</th>\n",
       "      <th>Notional Cost (£)</th>\n",
       "      <th>NumCalls</th>\n",
       "    </tr>\n",
       "    <tr>\n",
       "      <th>IncidentNumber</th>\n",
       "      <th></th>\n",
       "      <th></th>\n",
       "      <th></th>\n",
       "      <th></th>\n",
       "      <th></th>\n",
       "      <th></th>\n",
       "      <th></th>\n",
       "      <th></th>\n",
       "      <th></th>\n",
       "      <th></th>\n",
       "      <th></th>\n",
       "      <th></th>\n",
       "      <th></th>\n",
       "      <th></th>\n",
       "      <th></th>\n",
       "      <th></th>\n",
       "      <th></th>\n",
       "      <th></th>\n",
       "      <th></th>\n",
       "      <th></th>\n",
       "      <th></th>\n",
       "    </tr>\n",
       "  </thead>\n",
       "  <tbody>\n",
       "    <tr>\n",
       "      <th>000008-01012018</th>\n",
       "      <td>01-Jan-18</td>\n",
       "      <td>2018</td>\n",
       "      <td>00:04:25</td>\n",
       "      <td>0</td>\n",
       "      <td>False Alarm</td>\n",
       "      <td>AFA</td>\n",
       "      <td>NaN</td>\n",
       "      <td>Non Residential</td>\n",
       "      <td>Mosque</td>\n",
       "      <td>Within same building</td>\n",
       "      <td>...</td>\n",
       "      <td>348.0</td>\n",
       "      <td>Finchley</td>\n",
       "      <td>NaN</td>\n",
       "      <td>NaN</td>\n",
       "      <td>1.0</td>\n",
       "      <td>1.0</td>\n",
       "      <td>1</td>\n",
       "      <td>60</td>\n",
       "      <td>328</td>\n",
       "      <td>1.0</td>\n",
       "    </tr>\n",
       "    <tr>\n",
       "      <th>000009-01012018</th>\n",
       "      <td>01-Jan-18</td>\n",
       "      <td>2018</td>\n",
       "      <td>00:04:30</td>\n",
       "      <td>0</td>\n",
       "      <td>False Alarm</td>\n",
       "      <td>AFA</td>\n",
       "      <td>NaN</td>\n",
       "      <td>Non Residential</td>\n",
       "      <td>Pub/wine bar/bar</td>\n",
       "      <td>Correct incident location</td>\n",
       "      <td>...</td>\n",
       "      <td>144.0</td>\n",
       "      <td>Beckenham</td>\n",
       "      <td>NaN</td>\n",
       "      <td>NaN</td>\n",
       "      <td>1.0</td>\n",
       "      <td>1.0</td>\n",
       "      <td>1</td>\n",
       "      <td>60</td>\n",
       "      <td>328</td>\n",
       "      <td>1.0</td>\n",
       "    </tr>\n",
       "    <tr>\n",
       "      <th>000010-01012018</th>\n",
       "      <td>01-Jan-18</td>\n",
       "      <td>2018</td>\n",
       "      <td>00:04:34</td>\n",
       "      <td>0</td>\n",
       "      <td>Fire</td>\n",
       "      <td>Secondary Fire</td>\n",
       "      <td>NaN</td>\n",
       "      <td>Outdoor Structure</td>\n",
       "      <td>Common external bin storage area</td>\n",
       "      <td>On land associated with building</td>\n",
       "      <td>...</td>\n",
       "      <td>232.0</td>\n",
       "      <td>Southgate</td>\n",
       "      <td>NaN</td>\n",
       "      <td>NaN</td>\n",
       "      <td>1.0</td>\n",
       "      <td>1.0</td>\n",
       "      <td>1</td>\n",
       "      <td>60</td>\n",
       "      <td>328</td>\n",
       "      <td>1.0</td>\n",
       "    </tr>\n",
       "    <tr>\n",
       "      <th>000011-01012018</th>\n",
       "      <td>01-Jan-18</td>\n",
       "      <td>2018</td>\n",
       "      <td>00:04:58</td>\n",
       "      <td>0</td>\n",
       "      <td>Special Service</td>\n",
       "      <td>Special Service</td>\n",
       "      <td>RTC</td>\n",
       "      <td>Road Vehicle</td>\n",
       "      <td>Multiple Vehicles</td>\n",
       "      <td>In street outside gazetteer location</td>\n",
       "      <td>...</td>\n",
       "      <td>22.0</td>\n",
       "      <td>Enfield</td>\n",
       "      <td>NaN</td>\n",
       "      <td>NaN</td>\n",
       "      <td>1.0</td>\n",
       "      <td>1.0</td>\n",
       "      <td>1</td>\n",
       "      <td>60</td>\n",
       "      <td>328</td>\n",
       "      <td>1.0</td>\n",
       "    </tr>\n",
       "    <tr>\n",
       "      <th>000014-01012018</th>\n",
       "      <td>01-Jan-18</td>\n",
       "      <td>2018</td>\n",
       "      <td>00:07:47</td>\n",
       "      <td>0</td>\n",
       "      <td>Fire</td>\n",
       "      <td>Primary Fire</td>\n",
       "      <td>NaN</td>\n",
       "      <td>Road Vehicle</td>\n",
       "      <td>Car</td>\n",
       "      <td>In street outside gazetteer location</td>\n",
       "      <td>...</td>\n",
       "      <td>241.0</td>\n",
       "      <td>Stratford</td>\n",
       "      <td>NaN</td>\n",
       "      <td>NaN</td>\n",
       "      <td>1.0</td>\n",
       "      <td>1.0</td>\n",
       "      <td>1</td>\n",
       "      <td>60</td>\n",
       "      <td>328</td>\n",
       "      <td>6.0</td>\n",
       "    </tr>\n",
       "  </tbody>\n",
       "</table>\n",
       "<p>5 rows × 38 columns</p>\n",
       "</div>"
      ],
      "text/plain": [
       "                DateOfCall  CalYear TimeOfCall  HourOfCall    IncidentGroup  \\\n",
       "IncidentNumber                                                                \n",
       "000008-01012018  01-Jan-18     2018   00:04:25           0      False Alarm   \n",
       "000009-01012018  01-Jan-18     2018   00:04:30           0      False Alarm   \n",
       "000010-01012018  01-Jan-18     2018   00:04:34           0             Fire   \n",
       "000011-01012018  01-Jan-18     2018   00:04:58           0  Special Service   \n",
       "000014-01012018  01-Jan-18     2018   00:07:47           0             Fire   \n",
       "\n",
       "                StopCodeDescription SpecialServiceType   PropertyCategory  \\\n",
       "IncidentNumber                                                              \n",
       "000008-01012018                 AFA                NaN    Non Residential   \n",
       "000009-01012018                 AFA                NaN    Non Residential   \n",
       "000010-01012018      Secondary Fire                NaN  Outdoor Structure   \n",
       "000011-01012018     Special Service                RTC       Road Vehicle   \n",
       "000014-01012018        Primary Fire                NaN       Road Vehicle   \n",
       "\n",
       "                                     PropertyType  \\\n",
       "IncidentNumber                                      \n",
       "000008-01012018                           Mosque    \n",
       "000009-01012018                 Pub/wine bar/bar    \n",
       "000010-01012018  Common external bin storage area   \n",
       "000011-01012018                Multiple Vehicles    \n",
       "000014-01012018                              Car    \n",
       "\n",
       "                                     AddressQualifier  ...  \\\n",
       "IncidentNumber                                         ...   \n",
       "000008-01012018                  Within same building  ...   \n",
       "000009-01012018             Correct incident location  ...   \n",
       "000010-01012018      On land associated with building  ...   \n",
       "000011-01012018  In street outside gazetteer location  ...   \n",
       "000014-01012018  In street outside gazetteer location  ...   \n",
       "\n",
       "                FirstPumpArriving_AttendanceTime  \\\n",
       "IncidentNumber                                     \n",
       "000008-01012018                            348.0   \n",
       "000009-01012018                            144.0   \n",
       "000010-01012018                            232.0   \n",
       "000011-01012018                             22.0   \n",
       "000014-01012018                            241.0   \n",
       "\n",
       "                FirstPumpArriving_DeployedFromStation  \\\n",
       "IncidentNumber                                          \n",
       "000008-01012018                              Finchley   \n",
       "000009-01012018                             Beckenham   \n",
       "000010-01012018                             Southgate   \n",
       "000011-01012018                               Enfield   \n",
       "000014-01012018                             Stratford   \n",
       "\n",
       "                 SecondPumpArriving_AttendanceTime  \\\n",
       "IncidentNumber                                       \n",
       "000008-01012018                                NaN   \n",
       "000009-01012018                                NaN   \n",
       "000010-01012018                                NaN   \n",
       "000011-01012018                                NaN   \n",
       "000014-01012018                                NaN   \n",
       "\n",
       "                 SecondPumpArriving_DeployedFromStation  \\\n",
       "IncidentNumber                                            \n",
       "000008-01012018                                     NaN   \n",
       "000009-01012018                                     NaN   \n",
       "000010-01012018                                     NaN   \n",
       "000011-01012018                                     NaN   \n",
       "000014-01012018                                     NaN   \n",
       "\n",
       "                NumStationsWithPumpsAttending NumPumpsAttending PumpCount  \\\n",
       "IncidentNumber                                                              \n",
       "000008-01012018                           1.0               1.0         1   \n",
       "000009-01012018                           1.0               1.0         1   \n",
       "000010-01012018                           1.0               1.0         1   \n",
       "000011-01012018                           1.0               1.0         1   \n",
       "000014-01012018                           1.0               1.0         1   \n",
       "\n",
       "                PumpMinutesRounded Notional Cost (£) NumCalls  \n",
       "IncidentNumber                                                 \n",
       "000008-01012018                 60               328      1.0  \n",
       "000009-01012018                 60               328      1.0  \n",
       "000010-01012018                 60               328      1.0  \n",
       "000011-01012018                 60               328      1.0  \n",
       "000014-01012018                 60               328      6.0  \n",
       "\n",
       "[5 rows x 38 columns]"
      ]
     },
     "metadata": {},
     "output_type": "display_data"
    },
    {
     "data": {
      "text/plain": [
       "(805036, 38)"
      ]
     },
     "execution_count": 73,
     "metadata": {},
     "output_type": "execute_result"
    }
   ],
   "source": [
    "# Dataframe incidents 2018 to 2024, set IncidentNUmber as index:\n",
    "\n",
    "df_incidents_2018 = pd.read_csv(\"LFB Incident data from 2018 onwards.csv\")\n",
    "df_incidents_2018 = df_incidents_2018.set_index(\"IncidentNumber\")\n",
    "display(df_incidents_2018.head())\n",
    "df_incidents_2018.shape"
   ]
  },
  {
   "cell_type": "code",
   "execution_count": 74,
   "id": "a1a5d938-8946-41eb-b235-cbb1d15b4906",
   "metadata": {},
   "outputs": [
    {
     "data": {
      "text/html": [
       "<div>\n",
       "<style scoped>\n",
       "    .dataframe tbody tr th:only-of-type {\n",
       "        vertical-align: middle;\n",
       "    }\n",
       "\n",
       "    .dataframe tbody tr th {\n",
       "        vertical-align: top;\n",
       "    }\n",
       "\n",
       "    .dataframe thead th {\n",
       "        text-align: right;\n",
       "    }\n",
       "</style>\n",
       "<table border=\"1\" class=\"dataframe\">\n",
       "  <thead>\n",
       "    <tr style=\"text-align: right;\">\n",
       "      <th></th>\n",
       "      <th>DateOfCall</th>\n",
       "      <th>CalYear</th>\n",
       "      <th>TimeOfCall</th>\n",
       "      <th>HourOfCall</th>\n",
       "      <th>IncidentGroup</th>\n",
       "      <th>StopCodeDescription</th>\n",
       "      <th>SpecialServiceType</th>\n",
       "      <th>PropertyCategory</th>\n",
       "      <th>PropertyType</th>\n",
       "      <th>AddressQualifier</th>\n",
       "      <th>...</th>\n",
       "      <th>FirstPumpArriving_AttendanceTime</th>\n",
       "      <th>FirstPumpArriving_DeployedFromStation</th>\n",
       "      <th>SecondPumpArriving_AttendanceTime</th>\n",
       "      <th>SecondPumpArriving_DeployedFromStation</th>\n",
       "      <th>NumStationsWithPumpsAttending</th>\n",
       "      <th>NumPumpsAttending</th>\n",
       "      <th>PumpCount</th>\n",
       "      <th>PumpMinutesRounded</th>\n",
       "      <th>Notional Cost (£)</th>\n",
       "      <th>NumCalls</th>\n",
       "    </tr>\n",
       "    <tr>\n",
       "      <th>IncidentNumber</th>\n",
       "      <th></th>\n",
       "      <th></th>\n",
       "      <th></th>\n",
       "      <th></th>\n",
       "      <th></th>\n",
       "      <th></th>\n",
       "      <th></th>\n",
       "      <th></th>\n",
       "      <th></th>\n",
       "      <th></th>\n",
       "      <th></th>\n",
       "      <th></th>\n",
       "      <th></th>\n",
       "      <th></th>\n",
       "      <th></th>\n",
       "      <th></th>\n",
       "      <th></th>\n",
       "      <th></th>\n",
       "      <th></th>\n",
       "      <th></th>\n",
       "      <th></th>\n",
       "    </tr>\n",
       "  </thead>\n",
       "  <tbody>\n",
       "    <tr>\n",
       "      <th>235138081.0</th>\n",
       "      <td>01-Jan-09</td>\n",
       "      <td>2009</td>\n",
       "      <td>00:00:37</td>\n",
       "      <td>0</td>\n",
       "      <td>Special Service</td>\n",
       "      <td>Special Service</td>\n",
       "      <td>RTC</td>\n",
       "      <td>Road Vehicle</td>\n",
       "      <td>Car</td>\n",
       "      <td>In street close to gazetteer location</td>\n",
       "      <td>...</td>\n",
       "      <td>319.0</td>\n",
       "      <td>Battersea</td>\n",
       "      <td>342.0</td>\n",
       "      <td>Clapham</td>\n",
       "      <td>2.0</td>\n",
       "      <td>2.0</td>\n",
       "      <td>2</td>\n",
       "      <td>60</td>\n",
       "      <td>255</td>\n",
       "      <td>1.0</td>\n",
       "    </tr>\n",
       "    <tr>\n",
       "      <th>1091.0</th>\n",
       "      <td>01-Jan-09</td>\n",
       "      <td>2009</td>\n",
       "      <td>00:00:46</td>\n",
       "      <td>0</td>\n",
       "      <td>Special Service</td>\n",
       "      <td>Special Service</td>\n",
       "      <td>Assist other agencies</td>\n",
       "      <td>Outdoor</td>\n",
       "      <td>Lake/pond/reservoir</td>\n",
       "      <td>Open land/water - nearest gazetteer location</td>\n",
       "      <td>...</td>\n",
       "      <td>NaN</td>\n",
       "      <td>NaN</td>\n",
       "      <td>NaN</td>\n",
       "      <td>NaN</td>\n",
       "      <td>NaN</td>\n",
       "      <td>NaN</td>\n",
       "      <td>1</td>\n",
       "      <td>60</td>\n",
       "      <td>255</td>\n",
       "      <td>1.0</td>\n",
       "    </tr>\n",
       "    <tr>\n",
       "      <th>2091.0</th>\n",
       "      <td>01-Jan-09</td>\n",
       "      <td>2009</td>\n",
       "      <td>00:03:00</td>\n",
       "      <td>0</td>\n",
       "      <td>Fire</td>\n",
       "      <td>Secondary Fire</td>\n",
       "      <td>NaN</td>\n",
       "      <td>Outdoor</td>\n",
       "      <td>Road surface/pavement</td>\n",
       "      <td>In street outside gazetteer location</td>\n",
       "      <td>...</td>\n",
       "      <td>308.0</td>\n",
       "      <td>Edmonton</td>\n",
       "      <td>NaN</td>\n",
       "      <td>NaN</td>\n",
       "      <td>1.0</td>\n",
       "      <td>1.0</td>\n",
       "      <td>1</td>\n",
       "      <td>60</td>\n",
       "      <td>255</td>\n",
       "      <td>2.0</td>\n",
       "    </tr>\n",
       "    <tr>\n",
       "      <th>3091.0</th>\n",
       "      <td>01-Jan-09</td>\n",
       "      <td>2009</td>\n",
       "      <td>00:04:27</td>\n",
       "      <td>0</td>\n",
       "      <td>Fire</td>\n",
       "      <td>Secondary Fire</td>\n",
       "      <td>NaN</td>\n",
       "      <td>Outdoor</td>\n",
       "      <td>Domestic garden (vegetation not equipment)</td>\n",
       "      <td>On land associated with building</td>\n",
       "      <td>...</td>\n",
       "      <td>210.0</td>\n",
       "      <td>Hillingdon</td>\n",
       "      <td>NaN</td>\n",
       "      <td>NaN</td>\n",
       "      <td>1.0</td>\n",
       "      <td>1.0</td>\n",
       "      <td>1</td>\n",
       "      <td>60</td>\n",
       "      <td>255</td>\n",
       "      <td>2.0</td>\n",
       "    </tr>\n",
       "    <tr>\n",
       "      <th>5091.0</th>\n",
       "      <td>01-Jan-09</td>\n",
       "      <td>2009</td>\n",
       "      <td>00:05:39</td>\n",
       "      <td>0</td>\n",
       "      <td>Fire</td>\n",
       "      <td>Secondary Fire</td>\n",
       "      <td>NaN</td>\n",
       "      <td>Outdoor</td>\n",
       "      <td>Cycle path/public footpath/bridleway</td>\n",
       "      <td>In street outside gazetteer location</td>\n",
       "      <td>...</td>\n",
       "      <td>233.0</td>\n",
       "      <td>Holloway</td>\n",
       "      <td>250.0</td>\n",
       "      <td>Holloway</td>\n",
       "      <td>1.0</td>\n",
       "      <td>2.0</td>\n",
       "      <td>2</td>\n",
       "      <td>60</td>\n",
       "      <td>255</td>\n",
       "      <td>1.0</td>\n",
       "    </tr>\n",
       "  </tbody>\n",
       "</table>\n",
       "<p>5 rows × 38 columns</p>\n",
       "</div>"
      ],
      "text/plain": [
       "               DateOfCall  CalYear TimeOfCall  HourOfCall    IncidentGroup  \\\n",
       "IncidentNumber                                                               \n",
       "235138081.0     01-Jan-09     2009   00:00:37           0  Special Service   \n",
       "1091.0          01-Jan-09     2009   00:00:46           0  Special Service   \n",
       "2091.0          01-Jan-09     2009   00:03:00           0             Fire   \n",
       "3091.0          01-Jan-09     2009   00:04:27           0             Fire   \n",
       "5091.0          01-Jan-09     2009   00:05:39           0             Fire   \n",
       "\n",
       "               StopCodeDescription     SpecialServiceType PropertyCategory  \\\n",
       "IncidentNumber                                                               \n",
       "235138081.0        Special Service                    RTC     Road Vehicle   \n",
       "1091.0             Special Service  Assist other agencies          Outdoor   \n",
       "2091.0              Secondary Fire                    NaN          Outdoor   \n",
       "3091.0              Secondary Fire                    NaN          Outdoor   \n",
       "5091.0              Secondary Fire                    NaN          Outdoor   \n",
       "\n",
       "                                               PropertyType  \\\n",
       "IncidentNumber                                                \n",
       "235138081.0                                            Car    \n",
       "1091.0                                 Lake/pond/reservoir    \n",
       "2091.0                               Road surface/pavement    \n",
       "3091.0          Domestic garden (vegetation not equipment)    \n",
       "5091.0                Cycle path/public footpath/bridleway    \n",
       "\n",
       "                                            AddressQualifier  ...  \\\n",
       "IncidentNumber                                                ...   \n",
       "235138081.0            In street close to gazetteer location  ...   \n",
       "1091.0          Open land/water - nearest gazetteer location  ...   \n",
       "2091.0                  In street outside gazetteer location  ...   \n",
       "3091.0                      On land associated with building  ...   \n",
       "5091.0                  In street outside gazetteer location  ...   \n",
       "\n",
       "               FirstPumpArriving_AttendanceTime  \\\n",
       "IncidentNumber                                    \n",
       "235138081.0                               319.0   \n",
       "1091.0                                      NaN   \n",
       "2091.0                                    308.0   \n",
       "3091.0                                    210.0   \n",
       "5091.0                                    233.0   \n",
       "\n",
       "               FirstPumpArriving_DeployedFromStation  \\\n",
       "IncidentNumber                                         \n",
       "235138081.0                                Battersea   \n",
       "1091.0                                           NaN   \n",
       "2091.0                                      Edmonton   \n",
       "3091.0                                    Hillingdon   \n",
       "5091.0                                      Holloway   \n",
       "\n",
       "                SecondPumpArriving_AttendanceTime  \\\n",
       "IncidentNumber                                      \n",
       "235138081.0                                 342.0   \n",
       "1091.0                                        NaN   \n",
       "2091.0                                        NaN   \n",
       "3091.0                                        NaN   \n",
       "5091.0                                      250.0   \n",
       "\n",
       "                SecondPumpArriving_DeployedFromStation  \\\n",
       "IncidentNumber                                           \n",
       "235138081.0                                    Clapham   \n",
       "1091.0                                             NaN   \n",
       "2091.0                                             NaN   \n",
       "3091.0                                             NaN   \n",
       "5091.0                                        Holloway   \n",
       "\n",
       "               NumStationsWithPumpsAttending NumPumpsAttending PumpCount  \\\n",
       "IncidentNumber                                                             \n",
       "235138081.0                              2.0               2.0         2   \n",
       "1091.0                                   NaN               NaN         1   \n",
       "2091.0                                   1.0               1.0         1   \n",
       "3091.0                                   1.0               1.0         1   \n",
       "5091.0                                   1.0               2.0         2   \n",
       "\n",
       "               PumpMinutesRounded Notional Cost (£) NumCalls  \n",
       "IncidentNumber                                                \n",
       "235138081.0                    60               255      1.0  \n",
       "1091.0                         60               255      1.0  \n",
       "2091.0                         60               255      2.0  \n",
       "3091.0                         60               255      2.0  \n",
       "5091.0                         60               255      1.0  \n",
       "\n",
       "[5 rows x 38 columns]"
      ]
     },
     "metadata": {},
     "output_type": "display_data"
    },
    {
     "data": {
      "text/plain": [
       "(1793315, 38)"
      ]
     },
     "execution_count": 74,
     "metadata": {},
     "output_type": "execute_result"
    }
   ],
   "source": [
    "# Concat incident dataframes to one from 2009 to 2024:\n",
    "\n",
    "df_incidents = pd.concat([df_incidents_2009, df_incidents_2018])\n",
    "display(df_incidents.head())\n",
    "df_incidents.shape"
   ]
  },
  {
   "cell_type": "code",
   "execution_count": 75,
   "id": "88898921-1b40-4742-a204-5071c42fa320",
   "metadata": {},
   "outputs": [
    {
     "data": {
      "text/plain": [
       "DateOfCall                                      0\n",
       "CalYear                                         0\n",
       "TimeOfCall                                      0\n",
       "HourOfCall                                      0\n",
       "IncidentGroup                                   6\n",
       "StopCodeDescription                             0\n",
       "SpecialServiceType                        1208500\n",
       "PropertyCategory                                6\n",
       "PropertyType                                    6\n",
       "AddressQualifier                                1\n",
       "Postcode_full                              899135\n",
       "Postcode_district                               0\n",
       "UPRN                                       141333\n",
       "USRN                                       162871\n",
       "IncGeo_BoroughCode                              0\n",
       "IncGeo_BoroughName                              0\n",
       "ProperCase                                      0\n",
       "IncGeo_WardCode                               572\n",
       "IncGeo_WardName                               572\n",
       "IncGeo_WardNameNew                            572\n",
       "Easting_m                                  899135\n",
       "Northing_m                                 899135\n",
       "Easting_rounded                                 0\n",
       "Northing_rounded                                0\n",
       "Latitude                                   899135\n",
       "Longitude                                  899135\n",
       "FRS                                             0\n",
       "IncidentStationGround                           1\n",
       "FirstPumpArriving_AttendanceTime           136796\n",
       "FirstPumpArriving_DeployedFromStation      136807\n",
       "SecondPumpArriving_AttendanceTime         1151398\n",
       "SecondPumpArriving_DeployedFromStation    1151405\n",
       "NumStationsWithPumpsAttending               14307\n",
       "NumPumpsAttending                           14307\n",
       "PumpCount                                       0\n",
       "PumpMinutesRounded                              0\n",
       "Notional Cost (£)                               0\n",
       "NumCalls                                     1849\n",
       "dtype: int64"
      ]
     },
     "execution_count": 75,
     "metadata": {},
     "output_type": "execute_result"
    }
   ],
   "source": [
    "# get amount of missing values per column:\n",
    "\n",
    "df_incidents.isna().sum()"
   ]
  },
  {
   "cell_type": "code",
   "execution_count": 76,
   "id": "e3300687-af8f-40f4-8a25-081d4e6cd760",
   "metadata": {},
   "outputs": [
    {
     "name": "stdout",
     "output_type": "stream",
     "text": [
      "IncidentGroup 0.0 percent missing values.\n",
      "SpecialServiceType 0.6739 percent missing values.\n",
      "PropertyCategory 0.0 percent missing values.\n",
      "PropertyType 0.0 percent missing values.\n",
      "Postcode_full 0.5014 percent missing values.\n",
      "UPRN 0.0788 percent missing values.\n",
      "USRN 0.0908 percent missing values.\n",
      "IncGeo_WardCode 0.0003 percent missing values.\n",
      "IncGeo_WardName 0.0003 percent missing values.\n",
      "IncGeo_WardNameNew 0.0003 percent missing values.\n",
      "Easting_m 0.5014 percent missing values.\n",
      "Northing_m 0.5014 percent missing values.\n",
      "Latitude 0.5014 percent missing values.\n",
      "Longitude 0.5014 percent missing values.\n",
      "FirstPumpArriving_AttendanceTime 0.0763 percent missing values.\n",
      "FirstPumpArriving_DeployedFromStation 0.0763 percent missing values.\n",
      "SecondPumpArriving_AttendanceTime 0.6421 percent missing values.\n",
      "SecondPumpArriving_DeployedFromStation 0.6421 percent missing values.\n",
      "NumStationsWithPumpsAttending 0.008 percent missing values.\n",
      "NumPumpsAttending 0.008 percent missing values.\n",
      "NumCalls 0.001 percent missing values.\n"
     ]
    }
   ],
   "source": [
    "# Calculate percentage of missing values per column.\n",
    "\n",
    "features_with_missing_values = [features for features in df_incidents.columns if df_incidents[features].isna().sum() > 1]\n",
    "\n",
    "for feature in features_with_missing_values:\n",
    "    print(feature, np.round(df_incidents[feature].isna().mean(), 4), \"percent missing values.\")"
   ]
  },
  {
   "cell_type": "code",
   "execution_count": 77,
   "id": "6c9b88c5-7488-4217-9b07-494be7197d1f",
   "metadata": {
    "scrolled": true
   },
   "outputs": [
    {
     "name": "stdout",
     "output_type": "stream",
     "text": [
      "<class 'pandas.core.frame.DataFrame'>\n",
      "Index: 1793315 entries, 235138081.0 to 222251-31122024\n",
      "Data columns (total 38 columns):\n",
      " #   Column                                  Dtype  \n",
      "---  ------                                  -----  \n",
      " 0   DateOfCall                              object \n",
      " 1   CalYear                                 int64  \n",
      " 2   TimeOfCall                              object \n",
      " 3   HourOfCall                              int64  \n",
      " 4   IncidentGroup                           object \n",
      " 5   StopCodeDescription                     object \n",
      " 6   SpecialServiceType                      object \n",
      " 7   PropertyCategory                        object \n",
      " 8   PropertyType                            object \n",
      " 9   AddressQualifier                        object \n",
      " 10  Postcode_full                           object \n",
      " 11  Postcode_district                       object \n",
      " 12  UPRN                                    float64\n",
      " 13  USRN                                    float64\n",
      " 14  IncGeo_BoroughCode                      object \n",
      " 15  IncGeo_BoroughName                      object \n",
      " 16  ProperCase                              object \n",
      " 17  IncGeo_WardCode                         object \n",
      " 18  IncGeo_WardName                         object \n",
      " 19  IncGeo_WardNameNew                      object \n",
      " 20  Easting_m                               float64\n",
      " 21  Northing_m                              float64\n",
      " 22  Easting_rounded                         int64  \n",
      " 23  Northing_rounded                        int64  \n",
      " 24  Latitude                                float64\n",
      " 25  Longitude                               float64\n",
      " 26  FRS                                     object \n",
      " 27  IncidentStationGround                   object \n",
      " 28  FirstPumpArriving_AttendanceTime        float64\n",
      " 29  FirstPumpArriving_DeployedFromStation   object \n",
      " 30  SecondPumpArriving_AttendanceTime       float64\n",
      " 31  SecondPumpArriving_DeployedFromStation  object \n",
      " 32  NumStationsWithPumpsAttending           float64\n",
      " 33  NumPumpsAttending                       float64\n",
      " 34  PumpCount                               int64  \n",
      " 35  PumpMinutesRounded                      int64  \n",
      " 36  Notional Cost (£)                       int64  \n",
      " 37  NumCalls                                float64\n",
      "dtypes: float64(11), int64(7), object(20)\n",
      "memory usage: 533.6+ MB\n"
     ]
    }
   ],
   "source": [
    "# get information about datatypes column:\n",
    "\n",
    "df_incidents.info()"
   ]
  },
  {
   "cell_type": "code",
   "execution_count": 78,
   "id": "e2d8280e-8478-42b0-bc4c-f8abf1ba8a24",
   "metadata": {},
   "outputs": [
    {
     "data": {
      "text/plain": [
       "3"
      ]
     },
     "metadata": {},
     "output_type": "display_data"
    },
    {
     "data": {
      "text/plain": [
       "array(['Special Service', 'Fire', 'False Alarm', nan], dtype=object)"
      ]
     },
     "metadata": {},
     "output_type": "display_data"
    }
   ],
   "source": [
    "# get numbers of categories for categorical columns:\n",
    "\n",
    "display(df_incidents[\"IncidentGroup\"].nunique())\n",
    "display(df_incidents[\"IncidentGroup\"].unique())"
   ]
  },
  {
   "cell_type": "code",
   "execution_count": 79,
   "id": "91b4f274-8dee-475a-8a4e-a7b234853127",
   "metadata": {},
   "outputs": [
    {
     "data": {
      "text/plain": [
       "11"
      ]
     },
     "execution_count": 79,
     "metadata": {},
     "output_type": "execute_result"
    }
   ],
   "source": [
    "df_incidents[\"StopCodeDescription\"].nunique()"
   ]
  },
  {
   "cell_type": "code",
   "execution_count": 80,
   "id": "66e5ad45-ba13-4d82-9c54-1d9296403bba",
   "metadata": {},
   "outputs": [
    {
     "data": {
      "text/plain": [
       "21"
      ]
     },
     "execution_count": 80,
     "metadata": {},
     "output_type": "execute_result"
    }
   ],
   "source": [
    "df_incidents[\"SpecialServiceType\"].nunique()"
   ]
  },
  {
   "cell_type": "code",
   "execution_count": 81,
   "id": "347307aa-d5d6-4523-8015-3bd0db25295d",
   "metadata": {},
   "outputs": [
    {
     "data": {
      "text/plain": [
       "9"
      ]
     },
     "metadata": {},
     "output_type": "display_data"
    },
    {
     "data": {
      "text/plain": [
       "array(['Road Vehicle', 'Outdoor', 'Dwelling', 'Outdoor Structure',\n",
       "       'Other Residential', 'Non Residential', 'Aircraft', 'Rail Vehicle',\n",
       "       'Boat', nan], dtype=object)"
      ]
     },
     "metadata": {},
     "output_type": "display_data"
    }
   ],
   "source": [
    "display(df_incidents[\"PropertyCategory\"].nunique())\n",
    "display(df_incidents[\"PropertyCategory\"].unique())"
   ]
  },
  {
   "cell_type": "code",
   "execution_count": 82,
   "id": "105e4fc5-f062-4115-9030-e39a179022ae",
   "metadata": {},
   "outputs": [
    {
     "data": {
      "text/plain": [
       "292"
      ]
     },
     "execution_count": 82,
     "metadata": {},
     "output_type": "execute_result"
    }
   ],
   "source": [
    "df_incidents[\"PropertyType\"].nunique()"
   ]
  },
  {
   "cell_type": "code",
   "execution_count": 83,
   "id": "25fd33de-3d4f-480c-a898-6785712114b0",
   "metadata": {},
   "outputs": [
    {
     "data": {
      "text/plain": [
       "11"
      ]
     },
     "execution_count": 83,
     "metadata": {},
     "output_type": "execute_result"
    }
   ],
   "source": [
    "df_incidents[\"AddressQualifier\"].nunique()"
   ]
  },
  {
   "cell_type": "code",
   "execution_count": 84,
   "id": "eb7a840b-525c-4a0c-bd0d-8b88b269f6b1",
   "metadata": {},
   "outputs": [
    {
     "data": {
      "text/plain": [
       "119773"
      ]
     },
     "execution_count": 84,
     "metadata": {},
     "output_type": "execute_result"
    }
   ],
   "source": [
    "df_incidents[\"Postcode_full\"].nunique()"
   ]
  },
  {
   "cell_type": "code",
   "execution_count": 85,
   "id": "4423dd92-d7fb-4b08-8a54-42558b357828",
   "metadata": {},
   "outputs": [
    {
     "data": {
      "text/plain": [
       "330"
      ]
     },
     "execution_count": 85,
     "metadata": {},
     "output_type": "execute_result"
    }
   ],
   "source": [
    "df_incidents[\"Postcode_district\"].nunique()"
   ]
  },
  {
   "cell_type": "code",
   "execution_count": 86,
   "id": "f8bc9e9b-a41c-4b5a-bb76-2e30ee481264",
   "metadata": {},
   "outputs": [
    {
     "data": {
      "text/plain": [
       "33"
      ]
     },
     "execution_count": 86,
     "metadata": {},
     "output_type": "execute_result"
    }
   ],
   "source": [
    "df_incidents[\"IncGeo_BoroughCode\"].nunique()"
   ]
  },
  {
   "cell_type": "code",
   "execution_count": 87,
   "id": "cc662a19-9979-4671-8be3-cb7fc4b09747",
   "metadata": {},
   "outputs": [
    {
     "data": {
      "text/plain": [
       "33"
      ]
     },
     "execution_count": 87,
     "metadata": {},
     "output_type": "execute_result"
    }
   ],
   "source": [
    "df_incidents[\"IncGeo_BoroughName\"].nunique()"
   ]
  },
  {
   "cell_type": "code",
   "execution_count": 88,
   "id": "253cb6cd-739d-41b2-bafc-a468a8f78a4d",
   "metadata": {},
   "outputs": [
    {
     "data": {
      "text/plain": [
       "33"
      ]
     },
     "execution_count": 88,
     "metadata": {},
     "output_type": "execute_result"
    }
   ],
   "source": [
    "df_incidents[\"ProperCase\"].nunique()"
   ]
  },
  {
   "cell_type": "code",
   "execution_count": 89,
   "id": "6ac356ee-5010-40b9-8232-3789ccb2087c",
   "metadata": {},
   "outputs": [
    {
     "data": {
      "text/plain": [
       "899"
      ]
     },
     "execution_count": 89,
     "metadata": {},
     "output_type": "execute_result"
    }
   ],
   "source": [
    "df_incidents[\"IncGeo_WardCode\"].nunique()"
   ]
  },
  {
   "cell_type": "code",
   "execution_count": 90,
   "id": "9b0c325a-5a0d-4b09-bd3d-57aa53d6937d",
   "metadata": {},
   "outputs": [
    {
     "data": {
      "text/plain": [
       "1484"
      ]
     },
     "execution_count": 90,
     "metadata": {},
     "output_type": "execute_result"
    }
   ],
   "source": [
    "df_incidents[\"IncGeo_WardName\"].nunique()"
   ]
  },
  {
   "cell_type": "code",
   "execution_count": 91,
   "id": "b032c2b0-fff3-4b72-befc-5453f153c4c5",
   "metadata": {},
   "outputs": [
    {
     "data": {
      "text/plain": [
       "1481"
      ]
     },
     "execution_count": 91,
     "metadata": {},
     "output_type": "execute_result"
    }
   ],
   "source": [
    "df_incidents[\"IncGeo_WardNameNew\"].nunique()"
   ]
  },
  {
   "cell_type": "code",
   "execution_count": 92,
   "id": "cdc73867-82b4-4eaa-802f-3e9d51175ca1",
   "metadata": {},
   "outputs": [
    {
     "data": {
      "text/plain": [
       "1"
      ]
     },
     "execution_count": 92,
     "metadata": {},
     "output_type": "execute_result"
    }
   ],
   "source": [
    "df_incidents[\"FRS\"].nunique()"
   ]
  },
  {
   "cell_type": "code",
   "execution_count": 93,
   "id": "e1d52cd4-e2ad-4dc3-90d9-a84cfbe84a79",
   "metadata": {},
   "outputs": [
    {
     "data": {
      "text/plain": [
       "103"
      ]
     },
     "execution_count": 93,
     "metadata": {},
     "output_type": "execute_result"
    }
   ],
   "source": [
    "df_incidents[\"IncidentStationGround\"].nunique()"
   ]
  },
  {
   "cell_type": "code",
   "execution_count": 94,
   "id": "8e55e0ad-ead0-4824-838c-1e6a154f2f60",
   "metadata": {},
   "outputs": [
    {
     "data": {
      "text/plain": [
       "117"
      ]
     },
     "execution_count": 94,
     "metadata": {},
     "output_type": "execute_result"
    }
   ],
   "source": [
    "df_incidents[\"FirstPumpArriving_DeployedFromStation\"].nunique()"
   ]
  },
  {
   "cell_type": "code",
   "execution_count": 95,
   "id": "ad5d62de-f5c3-469b-982b-fc48abb7f646",
   "metadata": {},
   "outputs": [
    {
     "data": {
      "text/plain": [
       "114"
      ]
     },
     "execution_count": 95,
     "metadata": {},
     "output_type": "execute_result"
    }
   ],
   "source": [
    "df_incidents[\"SecondPumpArriving_DeployedFromStation\"].nunique()"
   ]
  },
  {
   "cell_type": "code",
   "execution_count": 96,
   "id": "3fa745e1-f857-447b-8b38-b0f6ce053ee6",
   "metadata": {},
   "outputs": [
    {
     "data": {
      "text/plain": [
       "21"
      ]
     },
     "execution_count": 96,
     "metadata": {},
     "output_type": "execute_result"
    }
   ],
   "source": [
    "df_incidents[\"SpecialServiceType\"].nunique()"
   ]
  },
  {
   "cell_type": "code",
   "execution_count": 97,
   "id": "7c9af825-692d-4bdc-9843-ae85abb0745b",
   "metadata": {},
   "outputs": [
    {
     "data": {
      "text/plain": [
       "21"
      ]
     },
     "execution_count": 97,
     "metadata": {},
     "output_type": "execute_result"
    }
   ],
   "source": [
    "df_incidents[\"SpecialServiceType\"].nunique()"
   ]
  },
  {
   "cell_type": "code",
   "execution_count": 98,
   "id": "6edaf824-9759-4b8a-ae4c-40eb0db00b13",
   "metadata": {},
   "outputs": [
    {
     "name": "stdout",
     "output_type": "stream",
     "text": [
      "<class 'pandas.core.frame.DataFrame'>\n",
      "Index: 1793315 entries, 235138081.0 to 222251-31122024\n",
      "Data columns (total 38 columns):\n",
      " #   Column                                  Dtype         \n",
      "---  ------                                  -----         \n",
      " 0   DateOfCall                              datetime64[ns]\n",
      " 1   CalYear                                 int64         \n",
      " 2   TimeOfCall                              object        \n",
      " 3   HourOfCall                              int64         \n",
      " 4   IncidentGroup                           object        \n",
      " 5   StopCodeDescription                     object        \n",
      " 6   SpecialServiceType                      object        \n",
      " 7   PropertyCategory                        object        \n",
      " 8   PropertyType                            object        \n",
      " 9   AddressQualifier                        object        \n",
      " 10  Postcode_full                           object        \n",
      " 11  Postcode_district                       object        \n",
      " 12  UPRN                                    float64       \n",
      " 13  USRN                                    float64       \n",
      " 14  IncGeo_BoroughCode                      object        \n",
      " 15  IncGeo_BoroughName                      object        \n",
      " 16  ProperCase                              object        \n",
      " 17  IncGeo_WardCode                         object        \n",
      " 18  IncGeo_WardName                         object        \n",
      " 19  IncGeo_WardNameNew                      object        \n",
      " 20  Easting_m                               float64       \n",
      " 21  Northing_m                              float64       \n",
      " 22  Easting_rounded                         int64         \n",
      " 23  Northing_rounded                        int64         \n",
      " 24  Latitude                                float64       \n",
      " 25  Longitude                               float64       \n",
      " 26  FRS                                     object        \n",
      " 27  IncidentStationGround                   object        \n",
      " 28  FirstPumpArriving_AttendanceTime        float64       \n",
      " 29  FirstPumpArriving_DeployedFromStation   object        \n",
      " 30  SecondPumpArriving_AttendanceTime       float64       \n",
      " 31  SecondPumpArriving_DeployedFromStation  object        \n",
      " 32  NumStationsWithPumpsAttending           float64       \n",
      " 33  NumPumpsAttending                       float64       \n",
      " 34  PumpCount                               int64         \n",
      " 35  PumpMinutesRounded                      int64         \n",
      " 36  Notional Cost (£)                       int64         \n",
      " 37  NumCalls                                float64       \n",
      "dtypes: datetime64[ns](1), float64(11), int64(7), object(19)\n",
      "memory usage: 533.6+ MB\n"
     ]
    },
    {
     "name": "stderr",
     "output_type": "stream",
     "text": [
      "/tmp/ipykernel_23843/354130680.py:3: UserWarning: Could not infer format, so each element will be parsed individually, falling back to `dateutil`. To ensure parsing is consistent and as-expected, please specify a format.\n",
      "  df_incidents[\"DateOfCall\"] = pd.to_datetime(df_incidents[\"DateOfCall\"])\n"
     ]
    }
   ],
   "source": [
    "# convert 'DateOfCall' into datetime format:\n",
    "\n",
    "df_incidents[\"DateOfCall\"] = pd.to_datetime(df_incidents[\"DateOfCall\"])\n",
    "df_incidents.info()"
   ]
  },
  {
   "cell_type": "code",
   "execution_count": 99,
   "id": "c9d9e11e-4b0e-45be-9e52-8b98e5f40cdd",
   "metadata": {},
   "outputs": [
    {
     "name": "stderr",
     "output_type": "stream",
     "text": [
      "/tmp/ipykernel_23843/885628501.py:3: UserWarning: Could not infer format, so each element will be parsed individually, falling back to `dateutil`. To ensure parsing is consistent and as-expected, please specify a format.\n",
      "  df_incidents[\"TimeOfCall\"] = pd.to_datetime(df_incidents[\"TimeOfCall\"])\n"
     ]
    },
    {
     "name": "stdout",
     "output_type": "stream",
     "text": [
      "<class 'pandas.core.frame.DataFrame'>\n",
      "Index: 1793315 entries, 235138081.0 to 222251-31122024\n",
      "Data columns (total 38 columns):\n",
      " #   Column                                  Dtype         \n",
      "---  ------                                  -----         \n",
      " 0   DateOfCall                              datetime64[ns]\n",
      " 1   CalYear                                 int64         \n",
      " 2   TimeOfCall                              datetime64[ns]\n",
      " 3   HourOfCall                              int64         \n",
      " 4   IncidentGroup                           object        \n",
      " 5   StopCodeDescription                     object        \n",
      " 6   SpecialServiceType                      object        \n",
      " 7   PropertyCategory                        object        \n",
      " 8   PropertyType                            object        \n",
      " 9   AddressQualifier                        object        \n",
      " 10  Postcode_full                           object        \n",
      " 11  Postcode_district                       object        \n",
      " 12  UPRN                                    float64       \n",
      " 13  USRN                                    float64       \n",
      " 14  IncGeo_BoroughCode                      object        \n",
      " 15  IncGeo_BoroughName                      object        \n",
      " 16  ProperCase                              object        \n",
      " 17  IncGeo_WardCode                         object        \n",
      " 18  IncGeo_WardName                         object        \n",
      " 19  IncGeo_WardNameNew                      object        \n",
      " 20  Easting_m                               float64       \n",
      " 21  Northing_m                              float64       \n",
      " 22  Easting_rounded                         int64         \n",
      " 23  Northing_rounded                        int64         \n",
      " 24  Latitude                                float64       \n",
      " 25  Longitude                               float64       \n",
      " 26  FRS                                     object        \n",
      " 27  IncidentStationGround                   object        \n",
      " 28  FirstPumpArriving_AttendanceTime        float64       \n",
      " 29  FirstPumpArriving_DeployedFromStation   object        \n",
      " 30  SecondPumpArriving_AttendanceTime       float64       \n",
      " 31  SecondPumpArriving_DeployedFromStation  object        \n",
      " 32  NumStationsWithPumpsAttending           float64       \n",
      " 33  NumPumpsAttending                       float64       \n",
      " 34  PumpCount                               int64         \n",
      " 35  PumpMinutesRounded                      int64         \n",
      " 36  Notional Cost (£)                       int64         \n",
      " 37  NumCalls                                float64       \n",
      "dtypes: datetime64[ns](2), float64(11), int64(7), object(18)\n",
      "memory usage: 533.6+ MB\n"
     ]
    }
   ],
   "source": [
    "# convert 'TimeOfCall' into datetime format:\n",
    "\n",
    "df_incidents[\"TimeOfCall\"] = pd.to_datetime(df_incidents[\"TimeOfCall\"])\n",
    "df_incidents.info()"
   ]
  },
  {
   "cell_type": "code",
   "execution_count": 100,
   "id": "0cc9f9ac-5c21-44a8-bd9b-70a128ef1eba",
   "metadata": {},
   "outputs": [
    {
     "data": {
      "text/html": [
       "<div>\n",
       "<style scoped>\n",
       "    .dataframe tbody tr th:only-of-type {\n",
       "        vertical-align: middle;\n",
       "    }\n",
       "\n",
       "    .dataframe tbody tr th {\n",
       "        vertical-align: top;\n",
       "    }\n",
       "\n",
       "    .dataframe thead th {\n",
       "        text-align: right;\n",
       "    }\n",
       "</style>\n",
       "<table border=\"1\" class=\"dataframe\">\n",
       "  <thead>\n",
       "    <tr style=\"text-align: right;\">\n",
       "      <th></th>\n",
       "      <th>DateOfCall</th>\n",
       "      <th>CalYear</th>\n",
       "      <th>TimeOfCall</th>\n",
       "      <th>HourOfCall</th>\n",
       "      <th>IncidentGroup</th>\n",
       "      <th>StopCodeDescription</th>\n",
       "      <th>SpecialServiceType</th>\n",
       "      <th>PropertyCategory</th>\n",
       "      <th>PropertyType</th>\n",
       "      <th>AddressQualifier</th>\n",
       "      <th>...</th>\n",
       "      <th>FirstPumpArriving_AttendanceTime</th>\n",
       "      <th>FirstPumpArriving_DeployedFromStation</th>\n",
       "      <th>SecondPumpArriving_AttendanceTime</th>\n",
       "      <th>SecondPumpArriving_DeployedFromStation</th>\n",
       "      <th>NumStationsWithPumpsAttending</th>\n",
       "      <th>NumPumpsAttending</th>\n",
       "      <th>PumpCount</th>\n",
       "      <th>PumpMinutesRounded</th>\n",
       "      <th>Notional Cost (£)</th>\n",
       "      <th>NumCalls</th>\n",
       "    </tr>\n",
       "    <tr>\n",
       "      <th>IncidentNumber</th>\n",
       "      <th></th>\n",
       "      <th></th>\n",
       "      <th></th>\n",
       "      <th></th>\n",
       "      <th></th>\n",
       "      <th></th>\n",
       "      <th></th>\n",
       "      <th></th>\n",
       "      <th></th>\n",
       "      <th></th>\n",
       "      <th></th>\n",
       "      <th></th>\n",
       "      <th></th>\n",
       "      <th></th>\n",
       "      <th></th>\n",
       "      <th></th>\n",
       "      <th></th>\n",
       "      <th></th>\n",
       "      <th></th>\n",
       "      <th></th>\n",
       "      <th></th>\n",
       "    </tr>\n",
       "  </thead>\n",
       "  <tbody>\n",
       "    <tr>\n",
       "      <th>235138081.0</th>\n",
       "      <td>2009-01-01</td>\n",
       "      <td>2009</td>\n",
       "      <td>2025-02-14 00:00:37</td>\n",
       "      <td>0</td>\n",
       "      <td>Special Service</td>\n",
       "      <td>Special Service</td>\n",
       "      <td>RTC</td>\n",
       "      <td>Road Vehicle</td>\n",
       "      <td>Car</td>\n",
       "      <td>In street close to gazetteer location</td>\n",
       "      <td>...</td>\n",
       "      <td>319.0</td>\n",
       "      <td>Battersea</td>\n",
       "      <td>342.0</td>\n",
       "      <td>Clapham</td>\n",
       "      <td>2.0</td>\n",
       "      <td>2.0</td>\n",
       "      <td>2</td>\n",
       "      <td>60</td>\n",
       "      <td>255</td>\n",
       "      <td>1.0</td>\n",
       "    </tr>\n",
       "    <tr>\n",
       "      <th>1091.0</th>\n",
       "      <td>2009-01-01</td>\n",
       "      <td>2009</td>\n",
       "      <td>2025-02-14 00:00:46</td>\n",
       "      <td>0</td>\n",
       "      <td>Special Service</td>\n",
       "      <td>Special Service</td>\n",
       "      <td>Assist other agencies</td>\n",
       "      <td>Outdoor</td>\n",
       "      <td>Lake/pond/reservoir</td>\n",
       "      <td>Open land/water - nearest gazetteer location</td>\n",
       "      <td>...</td>\n",
       "      <td>NaN</td>\n",
       "      <td>NaN</td>\n",
       "      <td>NaN</td>\n",
       "      <td>NaN</td>\n",
       "      <td>NaN</td>\n",
       "      <td>NaN</td>\n",
       "      <td>1</td>\n",
       "      <td>60</td>\n",
       "      <td>255</td>\n",
       "      <td>1.0</td>\n",
       "    </tr>\n",
       "    <tr>\n",
       "      <th>2091.0</th>\n",
       "      <td>2009-01-01</td>\n",
       "      <td>2009</td>\n",
       "      <td>2025-02-14 00:03:00</td>\n",
       "      <td>0</td>\n",
       "      <td>Fire</td>\n",
       "      <td>Secondary Fire</td>\n",
       "      <td>NaN</td>\n",
       "      <td>Outdoor</td>\n",
       "      <td>Road surface/pavement</td>\n",
       "      <td>In street outside gazetteer location</td>\n",
       "      <td>...</td>\n",
       "      <td>308.0</td>\n",
       "      <td>Edmonton</td>\n",
       "      <td>NaN</td>\n",
       "      <td>NaN</td>\n",
       "      <td>1.0</td>\n",
       "      <td>1.0</td>\n",
       "      <td>1</td>\n",
       "      <td>60</td>\n",
       "      <td>255</td>\n",
       "      <td>2.0</td>\n",
       "    </tr>\n",
       "    <tr>\n",
       "      <th>3091.0</th>\n",
       "      <td>2009-01-01</td>\n",
       "      <td>2009</td>\n",
       "      <td>2025-02-14 00:04:27</td>\n",
       "      <td>0</td>\n",
       "      <td>Fire</td>\n",
       "      <td>Secondary Fire</td>\n",
       "      <td>NaN</td>\n",
       "      <td>Outdoor</td>\n",
       "      <td>Domestic garden (vegetation not equipment)</td>\n",
       "      <td>On land associated with building</td>\n",
       "      <td>...</td>\n",
       "      <td>210.0</td>\n",
       "      <td>Hillingdon</td>\n",
       "      <td>NaN</td>\n",
       "      <td>NaN</td>\n",
       "      <td>1.0</td>\n",
       "      <td>1.0</td>\n",
       "      <td>1</td>\n",
       "      <td>60</td>\n",
       "      <td>255</td>\n",
       "      <td>2.0</td>\n",
       "    </tr>\n",
       "    <tr>\n",
       "      <th>5091.0</th>\n",
       "      <td>2009-01-01</td>\n",
       "      <td>2009</td>\n",
       "      <td>2025-02-14 00:05:39</td>\n",
       "      <td>0</td>\n",
       "      <td>Fire</td>\n",
       "      <td>Secondary Fire</td>\n",
       "      <td>NaN</td>\n",
       "      <td>Outdoor</td>\n",
       "      <td>Cycle path/public footpath/bridleway</td>\n",
       "      <td>In street outside gazetteer location</td>\n",
       "      <td>...</td>\n",
       "      <td>233.0</td>\n",
       "      <td>Holloway</td>\n",
       "      <td>250.0</td>\n",
       "      <td>Holloway</td>\n",
       "      <td>1.0</td>\n",
       "      <td>2.0</td>\n",
       "      <td>2</td>\n",
       "      <td>60</td>\n",
       "      <td>255</td>\n",
       "      <td>1.0</td>\n",
       "    </tr>\n",
       "  </tbody>\n",
       "</table>\n",
       "<p>5 rows × 38 columns</p>\n",
       "</div>"
      ],
      "text/plain": [
       "               DateOfCall  CalYear          TimeOfCall  HourOfCall  \\\n",
       "IncidentNumber                                                       \n",
       "235138081.0    2009-01-01     2009 2025-02-14 00:00:37           0   \n",
       "1091.0         2009-01-01     2009 2025-02-14 00:00:46           0   \n",
       "2091.0         2009-01-01     2009 2025-02-14 00:03:00           0   \n",
       "3091.0         2009-01-01     2009 2025-02-14 00:04:27           0   \n",
       "5091.0         2009-01-01     2009 2025-02-14 00:05:39           0   \n",
       "\n",
       "                  IncidentGroup StopCodeDescription     SpecialServiceType  \\\n",
       "IncidentNumber                                                               \n",
       "235138081.0     Special Service     Special Service                    RTC   \n",
       "1091.0          Special Service     Special Service  Assist other agencies   \n",
       "2091.0                     Fire      Secondary Fire                    NaN   \n",
       "3091.0                     Fire      Secondary Fire                    NaN   \n",
       "5091.0                     Fire      Secondary Fire                    NaN   \n",
       "\n",
       "               PropertyCategory                                 PropertyType  \\\n",
       "IncidentNumber                                                                 \n",
       "235138081.0        Road Vehicle                                         Car    \n",
       "1091.0                  Outdoor                         Lake/pond/reservoir    \n",
       "2091.0                  Outdoor                       Road surface/pavement    \n",
       "3091.0                  Outdoor  Domestic garden (vegetation not equipment)    \n",
       "5091.0                  Outdoor        Cycle path/public footpath/bridleway    \n",
       "\n",
       "                                            AddressQualifier  ...  \\\n",
       "IncidentNumber                                                ...   \n",
       "235138081.0            In street close to gazetteer location  ...   \n",
       "1091.0          Open land/water - nearest gazetteer location  ...   \n",
       "2091.0                  In street outside gazetteer location  ...   \n",
       "3091.0                      On land associated with building  ...   \n",
       "5091.0                  In street outside gazetteer location  ...   \n",
       "\n",
       "               FirstPumpArriving_AttendanceTime  \\\n",
       "IncidentNumber                                    \n",
       "235138081.0                               319.0   \n",
       "1091.0                                      NaN   \n",
       "2091.0                                    308.0   \n",
       "3091.0                                    210.0   \n",
       "5091.0                                    233.0   \n",
       "\n",
       "               FirstPumpArriving_DeployedFromStation  \\\n",
       "IncidentNumber                                         \n",
       "235138081.0                                Battersea   \n",
       "1091.0                                           NaN   \n",
       "2091.0                                      Edmonton   \n",
       "3091.0                                    Hillingdon   \n",
       "5091.0                                      Holloway   \n",
       "\n",
       "                SecondPumpArriving_AttendanceTime  \\\n",
       "IncidentNumber                                      \n",
       "235138081.0                                 342.0   \n",
       "1091.0                                        NaN   \n",
       "2091.0                                        NaN   \n",
       "3091.0                                        NaN   \n",
       "5091.0                                      250.0   \n",
       "\n",
       "                SecondPumpArriving_DeployedFromStation  \\\n",
       "IncidentNumber                                           \n",
       "235138081.0                                    Clapham   \n",
       "1091.0                                             NaN   \n",
       "2091.0                                             NaN   \n",
       "3091.0                                             NaN   \n",
       "5091.0                                        Holloway   \n",
       "\n",
       "               NumStationsWithPumpsAttending NumPumpsAttending PumpCount  \\\n",
       "IncidentNumber                                                             \n",
       "235138081.0                              2.0               2.0         2   \n",
       "1091.0                                   NaN               NaN         1   \n",
       "2091.0                                   1.0               1.0         1   \n",
       "3091.0                                   1.0               1.0         1   \n",
       "5091.0                                   1.0               2.0         2   \n",
       "\n",
       "               PumpMinutesRounded Notional Cost (£) NumCalls  \n",
       "IncidentNumber                                                \n",
       "235138081.0                    60               255      1.0  \n",
       "1091.0                         60               255      1.0  \n",
       "2091.0                         60               255      2.0  \n",
       "3091.0                         60               255      2.0  \n",
       "5091.0                         60               255      1.0  \n",
       "\n",
       "[5 rows x 38 columns]"
      ]
     },
     "execution_count": 100,
     "metadata": {},
     "output_type": "execute_result"
    }
   ],
   "source": [
    "df_incidents.head()"
   ]
  },
  {
   "cell_type": "code",
   "execution_count": 101,
   "id": "2ee81964-071c-4e60-91c8-1a6130a33e2e",
   "metadata": {},
   "outputs": [
    {
     "data": {
      "image/png": "[encoded data removed]",
      "text/plain": [
       "<Figure size 640x480 with 1 Axes>"
      ]
     },
     "metadata": {},
     "output_type": "display_data"
    }
   ],
   "source": [
    "plt.bar(df_incidents[\"CalYear\"].unique(), df_incidents[\"CalYear\"].value_counts())\n",
    "plt.title(\"Number of incidents per year\");"
   ]
  },
  {
   "cell_type": "code",
   "execution_count": 102,
   "id": "b6e88f10-99f1-4b5b-87fa-36e6d82fd23b",
   "metadata": {},
   "outputs": [
    {
     "name": "stdout",
     "output_type": "stream",
     "text": [
      " The number of Fire incidents seem to be decreasing since 2009. \n",
      " The number of False Alarms had been decreasing from 2009 to 2014 and are increasing since. \n",
      " The number of Special Service incidents has been increasing since 2018.\n"
     ]
    },
    {
     "data": {
      "image/png": "[encoded data removed]",
      "text/plain": [
       "<Figure size 655.75x500 with 1 Axes>"
      ]
     },
     "metadata": {},
     "output_type": "display_data"
    }
   ],
   "source": [
    "sns.catplot(x = 'CalYear', hue =\"IncidentGroup\", kind = 'count', data = df_incidents, palette = \"hot\")\n",
    "plt.xticks(rotation=60)\n",
    "plt.title(\"Type of incident per year\");\n",
    "\n",
    "print(\" The number of Fire incidents seem to be decreasing since 2009. \\n The number of False Alarms had been decreasing from 2009 to 2014 and are increasing since. \\n The number of Special Service incidents has been increasing since 2018.\");"
   ]
  },
  {
   "cell_type": "code",
   "execution_count": 103,
   "id": "1410f721-42dc-4283-8194-a65e5fbb7e9f",
   "metadata": {},
   "outputs": [],
   "source": [
    "#df_incidents[\"NumCalls\"] = df_incidents[\"NumCalls\"].dropna()\n",
    "#df_incidents.shape"
   ]
  },
  {
   "cell_type": "code",
   "execution_count": 104,
   "id": "70748b2a-2759-47ff-b455-435fc86c0ea1",
   "metadata": {},
   "outputs": [],
   "source": [
    "# drop rows with missing values when columns have less than 0.1 percent missing values:\n",
    "# to_drop = [\"IncidentGroup\", \"PropertyCategory\", \"PropertyType\", \"AddressQualifier\", \n",
    "           #\"IncGeo_WardCode\", \"IncGeo_WardName\", \"IncGeo_WardNameNew\", \"IncidentStationGround\"]\n",
    "\n",
    "#df_incidents[to_drop].dropna()\n",
    "#df_incidents.isna().sum()"
   ]
  }
 ],
 "metadata": {
  "kernelspec": {
   "display_name": "Python 3 (ipykernel)",
   "language": "python",
   "name": "python3"
  },
  "language_info": {
   "codemirror_mode": {
    "name": "ipython",
    "version": 3
   },
   "file_extension": ".py",
   "mimetype": "text/x-python",
   "name": "python",
   "nbconvert_exporter": "python",
   "pygments_lexer": "ipython3",
   "version": "3.12.7"
  }
 },
 "nbformat": 4,
 "nbformat_minor": 5
}
