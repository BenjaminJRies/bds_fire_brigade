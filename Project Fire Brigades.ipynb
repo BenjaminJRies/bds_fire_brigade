{
 "cells": [
  {
   "cell_type": "code",
   "execution_count": 1,
   "metadata": {},
   "outputs": [],
   "source": [
    "import pandas as pd"
   ]
  },
  {
   "cell_type": "code",
   "execution_count": null,
   "metadata": {},
   "outputs": [
    {
     "name": "stderr",
     "output_type": "stream",
     "text": [
      "C:\\Users\\user\\AppData\\Local\\Temp\\ipykernel_12688\\3538136601.py:1: DtypeWarning: Columns (0) have mixed types. Specify dtype option on import or set low_memory=False.\n",
      "  incident_data_1 = pd.read_csv('LFB Incident data from 2009 - 2017.csv')\n"
     ]
    }
   ],
   "source": [
    "incident_data_1 = pd.read_csv('LFB Incident data from 2009 - 2017.csv')\n",
    "incident_data_2 = pd.read_csv('LFB Incident data from 2018 onwards.csv')\n",
    "\n",
    "mobilisation_data_3 = pd.read_excel('LFB Mobilisation data from 2015 - 2020.xlsx')\n",
    "mobilisation_data_4 = pd.read_csv('LFB Mobilisation data from 2021 - 2024.csv')\n",
    "mobilisation_data_5 = pd.read_excel('LFB Mobilisation data from January 2009 - 2014.xlsx')"
   ]
  },
  {
   "cell_type": "markdown",
   "metadata": {},
   "source": [
    "Be careful of the Incident ID. Before 2016 you cannot join the two datasets. Just work on after 2016. Maybe it's another year."
   ]
  },
  {
   "cell_type": "markdown",
   "metadata": {},
   "source": [
    "Understand the columns by using the excel sheet."
   ]
  },
  {
   "cell_type": "code",
   "execution_count": null,
   "metadata": {},
   "outputs": [],
   "source": []
  },
  {
   "cell_type": "markdown",
   "metadata": {},
   "source": [
    "Share via Github"
   ]
  },
  {
   "cell_type": "code",
   "execution_count": null,
   "metadata": {},
   "outputs": [],
   "source": []
  }
 ],
 "metadata": {
  "kernelspec": {
   "display_name": "base",
   "language": "python",
   "name": "python3"
  },
  "language_info": {
   "codemirror_mode": {
    "name": "ipython",
    "version": 3
   },
   "file_extension": ".py",
   "mimetype": "text/x-python",
   "name": "python",
   "nbconvert_exporter": "python",
   "pygments_lexer": "ipython3",
   "version": "3.11.7"
  }
 },
 "nbformat": 4,
 "nbformat_minor": 2
}
